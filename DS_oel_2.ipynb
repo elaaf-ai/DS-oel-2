{
  "nbformat": 4,
  "nbformat_minor": 0,
  "metadata": {
    "colab": {
      "provenance": []
    },
    "kernelspec": {
      "name": "python3",
      "display_name": "Python 3"
    },
    "language_info": {
      "name": "python"
    }
  },
  "cells": [
    {
      "cell_type": "code",
      "execution_count": 6,
      "metadata": {
        "colab": {
          "base_uri": "https://localhost:8080/"
        },
        "id": "c_jFeUOohlQF",
        "outputId": "1dd4ca1a-aa33-479d-f2de-0326c64d1ff2"
      },
      "outputs": [
        {
          "output_type": "stream",
          "name": "stdout",
          "text": [
            "False\n",
            "False\n",
            "False\n"
          ]
        }
      ],
      "source": [
        "# s= string , pat = pattren\n",
        "def isIsomorphic(s, pat):\n",
        "    if len(s) != len(pat):\n",
        "        return False\n",
        "\n",
        "    # Initializing hash maps\n",
        "    map_s_to_pat = {}\n",
        "    map_pat_to_s = {}\n",
        "\n",
        "    for char_s, char_pat in zip(s, pat):\n",
        "        # Checking if the strings were isomorphic\n",
        "        if char_s in map_s_to_pat and map_s_to_pat[char_s] != char_pat:\n",
        "            return False\n",
        "        if char_pat in map_pat_to_s and map_pat_to_s[char_pat] != char_s:\n",
        "            return False\n",
        "\n",
        "        # FOR TRUE CASE\n",
        "        map_s_to_pat[char_s] = char_pat\n",
        "        map_pat_to_s[char_pat] = char_s\n",
        "\n",
        "    return True\n",
        "\n",
        "#printing the example cases:\n",
        "print(isIsomorphic(\"abba\", \"dog cat cat dog\"))  #  True\n",
        "print(isIsomorphic(\"abba\", \"dog cat cat fish\"))  #  False\n",
        "print(isIsomorphic(\"aaaa\", \"dog cat cat dog\"))  # false\n"
      ]
    }
  ]
}